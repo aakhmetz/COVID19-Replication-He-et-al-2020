{
 "cells": [
  {
   "cell_type": "code",
   "execution_count": 1,
   "metadata": {},
   "outputs": [
    {
     "name": "stdout",
     "output_type": "stream",
     "text": [
      "2019年 10月  9日 水曜日 23:36:11 JST\n"
     ]
    }
   ],
   "source": [
    "!date"
   ]
  },
  {
   "cell_type": "code",
   "execution_count": 2,
   "metadata": {},
   "outputs": [
    {
     "name": "stdout",
     "output_type": "stream",
     "text": [
      "Running with pystan version v.2.19.0.0\n",
      "Running with PyMC3 version v.3.7\n",
      "3.7.3 | packaged by conda-forge | (default, Jul  1 2019, 21:52:21) \n",
      "[GCC 7.3.0]\n"
     ]
    }
   ],
   "source": [
    "import pandas as pd\n",
    "import numpy as np\n",
    "from numpy import exp, sqrt\n",
    "import scipy.stats as ss\n",
    "import scipy.special as ssp\n",
    "\n",
    "%matplotlib inline\n",
    "# Make inline plots raster graphics\n",
    "from IPython.display import set_matplotlib_formats\n",
    "import matplotlib\n",
    "from matplotlib import cm\n",
    "import matplotlib.pyplot as plt\n",
    "import matplotlib.dates as mdates\n",
    "from matplotlib import colors\n",
    "from pylab import imshow\n",
    "from matplotlib import animation, rc\n",
    "import matplotlib.patches as mpatches\n",
    "from IPython.display import HTML\n",
    "\n",
    "from math import log, isnan\n",
    "from scipy.special import gamma, gammaln, gammainc, erf\n",
    "\n",
    "from datetime import timedelta\n",
    "\n",
    "# Parameters for seaborn plots\n",
    "import seaborn as sns\n",
    "clrs = sns.color_palette(\"Spectral\", 6)\n",
    "def set_plot_style(usetex=False):\n",
    "    sns.set_style('white', {'axes.linewidth': 0.5})\n",
    "    sns.set(style='white',# font_scale=1.1,#context='paper',\n",
    "            rc={'xtick.major.size': 6, 'ytick.major.size': 6, 'legend.fontsize': 14,\n",
    "                'text.usetex': usetex, 'font.family': 'serif', 'font.serif': ['Verdana'],\n",
    "                'text.latex.preamble': r\"\\usepackage{type1cm}\"}) \n",
    "    plt.rcParams['xtick.major.size'] = 6\n",
    "    plt.rcParams['xtick.major.width'] = 1\n",
    "    plt.rcParams['ytick.major.size'] = 6\n",
    "    plt.rcParams['ytick.major.width'] = 1\n",
    "    plt.rcParams['xtick.bottom'] = True\n",
    "    plt.rcParams['ytick.left'] = True\n",
    "\n",
    "palette_size = 6;\n",
    "clrs = sns.color_palette(\"colorblind\",palette_size) #cubehelix\n",
    "import itertools # to do cycle, product\n",
    "iclrs = itertools.cycle(clrs) # iterated colors\n",
    "lw = .4 #linewidth for bins on plot.bar()\n",
    "\n",
    "import pymc3 as pm\n",
    "print('Running with PyMC3 version v.{}'.format(pm.__version__))\n",
    "import theano\n",
    "import theano.tensor as tt\n",
    "from theano.compile.ops import as_op\n",
    "from theano import shared\n",
    "import arviz as az\n",
    "\n",
    "from theano.tensor.shared_randomstreams import RandomStreams\n",
    "theano_rng = RandomStreams(seed=523) \n",
    "from theano.ifelse import ifelse\n",
    "theano.config.compute_test_value = 'ignore'\n",
    "\n",
    "import time\n",
    "import pickle\n",
    "\n",
    "from math import lgamma\n",
    "import scipy.integrate as integrate\n",
    "from scipy.optimize import fsolve\n",
    "\n",
    "import platform \n",
    "current_platform = platform.system()\n",
    "if current_platform=='Darwin':\n",
    "    %config InlineBackend.figure_format = 'retina'\n",
    "else:\n",
    "    %config InlineBackend.figure_format = 'png'\n",
    "\n",
    "import subprocess                 # For issuing commands to the OS.\n",
    "import os, fnmatch\n",
    "import sys\n",
    "print(sys.version)\n",
    "\n",
    "from warnings import filterwarnings\n",
    "# filterwarnings('ignore')\n",
    "\n",
    "from pandas.plotting import register_matplotlib_converters\n",
    "register_matplotlib_converters()\n",
    "\n",
    "from IPython.core.display import Image, display"
   ]
  },
  {
   "cell_type": "code",
   "execution_count": null,
   "metadata": {},
   "outputs": [],
   "source": []
  }
 ],
 "metadata": {
  "kernelspec": {
   "display_name": "Python 3",
   "language": "python",
   "name": "python3"
  },
  "language_info": {
   "codemirror_mode": {
    "name": "ipython",
    "version": 3
   },
   "file_extension": ".py",
   "mimetype": "text/x-python",
   "name": "python",
   "nbconvert_exporter": "python",
   "pygments_lexer": "ipython3",
   "version": "3.7.7"
  }
 },
 "nbformat": 4,
 "nbformat_minor": 4
}
