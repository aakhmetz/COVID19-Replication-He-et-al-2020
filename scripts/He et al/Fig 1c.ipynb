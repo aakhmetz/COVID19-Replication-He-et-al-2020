{
 "cells": [
  {
   "cell_type": "code",
   "execution_count": 1,
   "metadata": {},
   "outputs": [],
   "source": [
    "#--- data ---\n",
    "# package: readxl\n",
    "data = data.frame(readxl::read_xlsx(\"Fig1c_data.xlsx\"))\n",
    "ref.date = as.Date(\"2020-01-01\")\n",
    "# \n",
    "# data = readxl::read_xlsx(\"Fig2c_data.xlsx\")\n",
    "data$x.lb <- as.numeric(as.Date(data$x.lb)-ref.date)\n",
    "data$x.ub <- as.numeric(as.Date(data$x.ub)-ref.date)\n",
    "data$y <- as.numeric(as.Date(data$y)-ref.date)"
   ]
  },
  {
   "cell_type": "code",
   "execution_count": 28,
   "metadata": {},
   "outputs": [],
   "source": [
    "# data: (x.lb, x.ub): lower and upper bounds of infectors symtpom onset dates\n",
    "# y: symptom onset dates of infectee\n",
    "\n",
    "#--- functions ---\n",
    "\n",
    "#--- CDF of serial interval ---\n",
    "p.Z  = function(z, gpar, lnpar) {\n",
    "  \n",
    "  #--- infectiousness, gamma distribution ---\n",
    "  # gpar[1:2]: hyper-parameters (gamma)\n",
    "  # x        : infection time of infectee w.r.t onset time of infector\n",
    "  f.Xc = function(x, gpar) { dgamma(x, gpar[1], gpar[2]) }\n",
    "  \n",
    "  #--- incubation, from Li et al NEJM 2020 ---\n",
    "  # lnpar[1:2]: hyper-parameter (logNormal)\n",
    "  # y         : length of incubation period of infectee\n",
    "  f.Y  = function(y, lnpar) { dlnorm(y, lnpar[1], lnpar[2]) }\n",
    "  \n",
    "  #--- convolution between incubation and infectiousness profile ---\n",
    "  # gpar[3]: shift c days before symptom onset of infector\n",
    "  # z      : length of serial interval\n",
    "  f.Z = function(z, gpar, lnpar) {\n",
    "    integrate(\n",
    "      f = function(x, z, gpar, lnpar) { f.Y(z+gpar[3]-x, lnpar)*f.Xc(x, gpar) },\n",
    "      lower = -Inf, \n",
    "      upper = Inf,\n",
    "      z     = z,\n",
    "      gpar  = gpar,\n",
    "      lnpar = lnpar\n",
    "    )$value\n",
    "  } \n",
    "  f.Z2 = Vectorize(f.Z, vectorize.args = \"z\")\n",
    "  \n",
    "  #--- p.Z ---\n",
    "  integrate(\n",
    "    f = function(x, gpar, lnpar) { f.Z2(x, gpar, lnpar) },\n",
    "    lower = -Inf,\n",
    "    upper = z,\n",
    "    gpar  = gpar,\n",
    "    lnpar = lnpar\n",
    "  )$value\n",
    "}\n",
    "p.Z2 = Vectorize(p.Z, vectorize.args = c(\"z\"))\n",
    "\n",
    "\n",
    "#--- logLikelihood for the observed serial intervals ---\n",
    "# x.lb: lower bound of infectors symtpom onset dates\n",
    "# x.ub: upper bound of infectors symtpom onset dates\n",
    "# y   : symptom onset dates of infectee\n",
    "# 0.5 : continuity correction\n",
    "lli.fx = function(gpar, x.lb, x.ub, y, lnpar) {\n",
    "  lli = log(p.Z2(y-(x.lb-0.5), gpar, lnpar) - p.Z2(y-(x.ub+0.5), gpar, lnpar))\n",
    "#   return(lli)\n",
    "  return(-sum(lli[!is.infinite(lli)]))\n",
    "}\n",
    "\n",
    "#--- incubation period ---\n",
    "# from Li et al NEJM 2020\n",
    "# lognormal mean = 5.2; 95% CI = c(4.1, 7.0)\n",
    "ln.par1 = 1.434065\n",
    "ln.par2 = 0.6612"
   ]
  },
  {
   "cell_type": "code",
   "execution_count": 24,
   "metadata": {},
   "outputs": [
    {
     "data": {
      "text/html": [
       "2.5470519530916e-07"
      ],
      "text/latex": [
       "2.5470519530916e-07"
      ],
      "text/markdown": [
       "2.5470519530916e-07"
      ],
      "text/plain": [
       "[1] 2.547052e-07"
      ]
     },
     "metadata": {},
     "output_type": "display_data"
    }
   ],
   "source": [
    "p.Z(-2, c(2.3, 0.5, 2.5), c(ln.par1, ln.par2))"
   ]
  },
  {
   "cell_type": "code",
   "execution_count": 25,
   "metadata": {
    "scrolled": true
   },
   "outputs": [
    {
     "data": {
      "text/html": [
       "<style>\n",
       ".list-inline {list-style: none; margin:0; padding: 0}\n",
       ".list-inline>li {display: inline-block}\n",
       ".list-inline>li:not(:last-child)::after {content: \"\\00b7\"; padding: 0 .5ex}\n",
       "</style>\n",
       "<ol class=list-inline><li>-2.43550117749477</li><li>-2.33927641482596</li><li>-2.43550117749477</li><li>-2.43707603853531</li><li>-2.43550117749477</li><li>-2.43550117749477</li><li>-2.43550117749477</li><li>-2.31473258621557</li><li>-4.12913433869988</li><li>-3.35130462394418</li><li>-4.31029306677132</li><li>-2.31473258621557</li><li>-2.70301311370747</li><li>-2.31473258621557</li><li>-2.70301311370747</li><li>-2.70301311370747</li><li>-2.70301311370747</li><li>-2.70301311370747</li><li>-4.12913433869988</li><li>-3.81896580532212</li><li>-2.74337186080747</li><li>-3.35130462394418</li><li>-3.20598960978275</li><li>-2.33927641482596</li><li>-4.81109651595591</li><li>-1.62236420240293</li><li>-2.43550117749477</li><li>-1.26592142637307</li><li>-2.33927641482596</li><li>-2.33927641482596</li><li>-2.17027876220407</li><li>-3.20598960978275</li><li>-3.13198661551561</li><li>-2.31473258621557</li><li>-4.31029306677132</li><li>-2.43707603853531</li><li>-2.29229804224337</li><li>-2.43707603853531</li><li>-2.7383794140326</li><li>-2.70301311370747</li><li>-2.43550117749477</li><li>-2.70301311370747</li><li>-4.12913433869988</li><li>-2.70301311370747</li><li>-2.7383794140326</li><li>-2.43550117749477</li><li>-2.57310088400139</li><li>-2.29229804224337</li><li>-3.13198661551561</li><li>-2.43550117749477</li><li>-2.13483004250295</li><li>-2.57310088400139</li><li>-3.81896580532212</li><li>-Inf</li><li>-2.7383794140326</li><li>-2.31473258621557</li><li>-2.31473258621557</li><li>-2.43707603853531</li><li>-2.43707603853531</li><li>-2.29229804224337</li><li>-1.21663942798157</li><li>-1.21663942798157</li><li>-0.138394243293534</li><li>-3.20598960978275</li><li>-2.43707603853531</li><li>-0.958050516234285</li><li>-2.70301311370747</li><li>-Inf</li><li>-2.43707603853531</li><li>-2.31473258621557</li><li>-2.57310088400139</li><li>-0.648093960861898</li><li>-2.43550117749477</li><li>-0.958050516234285</li><li>-2.29229804224337</li><li>-2.31473258621557</li><li>-3.35130462394418</li></ol>\n"
      ],
      "text/latex": [
       "\\begin{enumerate*}\n",
       "\\item -2.43550117749477\n",
       "\\item -2.33927641482596\n",
       "\\item -2.43550117749477\n",
       "\\item -2.43707603853531\n",
       "\\item -2.43550117749477\n",
       "\\item -2.43550117749477\n",
       "\\item -2.43550117749477\n",
       "\\item -2.31473258621557\n",
       "\\item -4.12913433869988\n",
       "\\item -3.35130462394418\n",
       "\\item -4.31029306677132\n",
       "\\item -2.31473258621557\n",
       "\\item -2.70301311370747\n",
       "\\item -2.31473258621557\n",
       "\\item -2.70301311370747\n",
       "\\item -2.70301311370747\n",
       "\\item -2.70301311370747\n",
       "\\item -2.70301311370747\n",
       "\\item -4.12913433869988\n",
       "\\item -3.81896580532212\n",
       "\\item -2.74337186080747\n",
       "\\item -3.35130462394418\n",
       "\\item -3.20598960978275\n",
       "\\item -2.33927641482596\n",
       "\\item -4.81109651595591\n",
       "\\item -1.62236420240293\n",
       "\\item -2.43550117749477\n",
       "\\item -1.26592142637307\n",
       "\\item -2.33927641482596\n",
       "\\item -2.33927641482596\n",
       "\\item -2.17027876220407\n",
       "\\item -3.20598960978275\n",
       "\\item -3.13198661551561\n",
       "\\item -2.31473258621557\n",
       "\\item -4.31029306677132\n",
       "\\item -2.43707603853531\n",
       "\\item -2.29229804224337\n",
       "\\item -2.43707603853531\n",
       "\\item -2.7383794140326\n",
       "\\item -2.70301311370747\n",
       "\\item -2.43550117749477\n",
       "\\item -2.70301311370747\n",
       "\\item -4.12913433869988\n",
       "\\item -2.70301311370747\n",
       "\\item -2.7383794140326\n",
       "\\item -2.43550117749477\n",
       "\\item -2.57310088400139\n",
       "\\item -2.29229804224337\n",
       "\\item -3.13198661551561\n",
       "\\item -2.43550117749477\n",
       "\\item -2.13483004250295\n",
       "\\item -2.57310088400139\n",
       "\\item -3.81896580532212\n",
       "\\item -Inf\n",
       "\\item -2.7383794140326\n",
       "\\item -2.31473258621557\n",
       "\\item -2.31473258621557\n",
       "\\item -2.43707603853531\n",
       "\\item -2.43707603853531\n",
       "\\item -2.29229804224337\n",
       "\\item -1.21663942798157\n",
       "\\item -1.21663942798157\n",
       "\\item -0.138394243293534\n",
       "\\item -3.20598960978275\n",
       "\\item -2.43707603853531\n",
       "\\item -0.958050516234285\n",
       "\\item -2.70301311370747\n",
       "\\item -Inf\n",
       "\\item -2.43707603853531\n",
       "\\item -2.31473258621557\n",
       "\\item -2.57310088400139\n",
       "\\item -0.648093960861898\n",
       "\\item -2.43550117749477\n",
       "\\item -0.958050516234285\n",
       "\\item -2.29229804224337\n",
       "\\item -2.31473258621557\n",
       "\\item -3.35130462394418\n",
       "\\end{enumerate*}\n"
      ],
      "text/markdown": [
       "1. -2.43550117749477\n",
       "2. -2.33927641482596\n",
       "3. -2.43550117749477\n",
       "4. -2.43707603853531\n",
       "5. -2.43550117749477\n",
       "6. -2.43550117749477\n",
       "7. -2.43550117749477\n",
       "8. -2.31473258621557\n",
       "9. -4.12913433869988\n",
       "10. -3.35130462394418\n",
       "11. -4.31029306677132\n",
       "12. -2.31473258621557\n",
       "13. -2.70301311370747\n",
       "14. -2.31473258621557\n",
       "15. -2.70301311370747\n",
       "16. -2.70301311370747\n",
       "17. -2.70301311370747\n",
       "18. -2.70301311370747\n",
       "19. -4.12913433869988\n",
       "20. -3.81896580532212\n",
       "21. -2.74337186080747\n",
       "22. -3.35130462394418\n",
       "23. -3.20598960978275\n",
       "24. -2.33927641482596\n",
       "25. -4.81109651595591\n",
       "26. -1.62236420240293\n",
       "27. -2.43550117749477\n",
       "28. -1.26592142637307\n",
       "29. -2.33927641482596\n",
       "30. -2.33927641482596\n",
       "31. -2.17027876220407\n",
       "32. -3.20598960978275\n",
       "33. -3.13198661551561\n",
       "34. -2.31473258621557\n",
       "35. -4.31029306677132\n",
       "36. -2.43707603853531\n",
       "37. -2.29229804224337\n",
       "38. -2.43707603853531\n",
       "39. -2.7383794140326\n",
       "40. -2.70301311370747\n",
       "41. -2.43550117749477\n",
       "42. -2.70301311370747\n",
       "43. -4.12913433869988\n",
       "44. -2.70301311370747\n",
       "45. -2.7383794140326\n",
       "46. -2.43550117749477\n",
       "47. -2.57310088400139\n",
       "48. -2.29229804224337\n",
       "49. -3.13198661551561\n",
       "50. -2.43550117749477\n",
       "51. -2.13483004250295\n",
       "52. -2.57310088400139\n",
       "53. -3.81896580532212\n",
       "54. -Inf\n",
       "55. -2.7383794140326\n",
       "56. -2.31473258621557\n",
       "57. -2.31473258621557\n",
       "58. -2.43707603853531\n",
       "59. -2.43707603853531\n",
       "60. -2.29229804224337\n",
       "61. -1.21663942798157\n",
       "62. -1.21663942798157\n",
       "63. -0.138394243293534\n",
       "64. -3.20598960978275\n",
       "65. -2.43707603853531\n",
       "66. -0.958050516234285\n",
       "67. -2.70301311370747\n",
       "68. -Inf\n",
       "69. -2.43707603853531\n",
       "70. -2.31473258621557\n",
       "71. -2.57310088400139\n",
       "72. -0.648093960861898\n",
       "73. -2.43550117749477\n",
       "74. -0.958050516234285\n",
       "75. -2.29229804224337\n",
       "76. -2.31473258621557\n",
       "77. -3.35130462394418\n",
       "\n",
       "\n"
      ],
      "text/plain": [
       " [1] -2.4355012 -2.3392764 -2.4355012 -2.4370760 -2.4355012 -2.4355012\n",
       " [7] -2.4355012 -2.3147326 -4.1291343 -3.3513046 -4.3102931 -2.3147326\n",
       "[13] -2.7030131 -2.3147326 -2.7030131 -2.7030131 -2.7030131 -2.7030131\n",
       "[19] -4.1291343 -3.8189658 -2.7433719 -3.3513046 -3.2059896 -2.3392764\n",
       "[25] -4.8110965 -1.6223642 -2.4355012 -1.2659214 -2.3392764 -2.3392764\n",
       "[31] -2.1702788 -3.2059896 -3.1319866 -2.3147326 -4.3102931 -2.4370760\n",
       "[37] -2.2922980 -2.4370760 -2.7383794 -2.7030131 -2.4355012 -2.7030131\n",
       "[43] -4.1291343 -2.7030131 -2.7383794 -2.4355012 -2.5731009 -2.2922980\n",
       "[49] -3.1319866 -2.4355012 -2.1348300 -2.5731009 -3.8189658       -Inf\n",
       "[55] -2.7383794 -2.3147326 -2.3147326 -2.4370760 -2.4370760 -2.2922980\n",
       "[61] -1.2166394 -1.2166394 -0.1383942 -3.2059896 -2.4370760 -0.9580505\n",
       "[67] -2.7030131       -Inf -2.4370760 -2.3147326 -2.5731009 -0.6480940\n",
       "[73] -2.4355012 -0.9580505 -2.2922980 -2.3147326 -3.3513046"
      ]
     },
     "metadata": {},
     "output_type": "display_data"
    }
   ],
   "source": [
    "lli.fx(c(2.3, 0.5, 2.5),data[, \"x.lb\"], data[, \"x.ub\"], data[, \"y\"], c(ln.par1, ln.par2))"
   ]
  },
  {
   "cell_type": "code",
   "execution_count": 31,
   "metadata": {},
   "outputs": [],
   "source": [
    "#\n",
    "#--- estimation ---\n",
    "#\n",
    "\n",
    "inf.fit = optim(\n",
    "  c(2, 0.5, 3.7), lli.fx, \n",
    "  x.lb = data[, \"x.lb\"], \n",
    "  x.ub = data[, \"x.ub\"],\n",
    "  y    = data[, \"y\"],\n",
    "  lnpar = c(ln.par1, ln.par2)\n",
    ")\n",
    "\n",
    "# inf.fit$par would give the estimated parameters (1st and 2nd parameters) for the infectiousness,\n",
    "# and start of infectiousness before symptom onset (3rd parameter)"
   ]
  },
  {
   "cell_type": "code",
   "execution_count": 32,
   "metadata": {},
   "outputs": [
    {
     "data": {
      "text/html": [
       "<style>\n",
       ".list-inline {list-style: none; margin:0; padding: 0}\n",
       ".list-inline>li {display: inline-block}\n",
       ".list-inline>li:not(:last-child)::after {content: \"\\00b7\"; padding: 0 .5ex}\n",
       "</style>\n",
       "<ol class=list-inline><li>16.7111140352895</li><li>1.44457507688087</li><li>11.0209430097355</li></ol>\n"
      ],
      "text/latex": [
       "\\begin{enumerate*}\n",
       "\\item 16.7111140352895\n",
       "\\item 1.44457507688087\n",
       "\\item 11.0209430097355\n",
       "\\end{enumerate*}\n"
      ],
      "text/markdown": [
       "1. 16.7111140352895\n",
       "2. 1.44457507688087\n",
       "3. 11.0209430097355\n",
       "\n",
       "\n"
      ],
      "text/plain": [
       "[1] 16.711114  1.444575 11.020943"
      ]
     },
     "metadata": {},
     "output_type": "display_data"
    },
    {
     "data": {
      "text/html": [
       "11.0209430097355"
      ],
      "text/latex": [
       "11.0209430097355"
      ],
      "text/markdown": [
       "11.0209430097355"
      ],
      "text/plain": [
       "[1] 11.02094"
      ]
     },
     "metadata": {},
     "output_type": "display_data"
    },
    {
     "data": {
      "text/html": [
       "-0.145001505045418"
      ],
      "text/latex": [
       "-0.145001505045418"
      ],
      "text/markdown": [
       "-0.145001505045418"
      ],
      "text/plain": [
       "[1] -0.1450015"
      ]
     },
     "metadata": {},
     "output_type": "display_data"
    },
    {
     "data": {
      "text/html": [
       "0.454404794275255"
      ],
      "text/latex": [
       "0.454404794275255"
      ],
      "text/markdown": [
       "0.454404794275255"
      ],
      "text/plain": [
       "[1] 0.4544048"
      ]
     },
     "metadata": {},
     "output_type": "display_data"
    }
   ],
   "source": [
    "#\n",
    "#--- results from fit ---\n",
    "#\n",
    "\n",
    "(inf.par = inf.fit$par)\n",
    "inf.par[3]                           # shift c\n",
    "(inf.par[1]-1)/inf.par[2] - inf.par[3]     # mode\n",
    "pgamma(inf.par[3], inf.par[1], inf.par[2]) # proportion of pre-symptomatic transmission"
   ]
  },
  {
   "cell_type": "code",
   "execution_count": null,
   "metadata": {},
   "outputs": [],
   "source": []
  }
 ],
 "metadata": {
  "kernelspec": {
   "display_name": "R",
   "language": "R",
   "name": "ir"
  },
  "language_info": {
   "codemirror_mode": "r",
   "file_extension": ".r",
   "mimetype": "text/x-r-source",
   "name": "R",
   "pygments_lexer": "r",
   "version": "4.0.0"
  }
 },
 "nbformat": 4,
 "nbformat_minor": 4
}
