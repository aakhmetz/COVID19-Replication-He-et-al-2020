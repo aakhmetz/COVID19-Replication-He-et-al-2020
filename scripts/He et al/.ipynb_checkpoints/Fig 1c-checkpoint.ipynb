{
 "cells": [
  {
   "cell_type": "code",
   "execution_count": 2,
   "metadata": {},
   "outputs": [],
   "source": [
    "#--- data ---\n",
    "# package: readxl\n",
    "data = data.frame(readxl::read_xlsx(\"Fig1c_data.xlsx\"))\n",
    "ref.date = as.Date(\"2020-01-01\")\n",
    "# \n",
    "# data = readxl::read_xlsx(\"Fig2c_data.xlsx\")\n",
    "data$x.lb <- as.numeric(as.Date(data$x.lb)-ref.date)\n",
    "data$x.ub <- as.numeric(as.Date(data$x.ub)-ref.date)\n",
    "data$y <- as.numeric(as.Date(data$y)-ref.date)"
   ]
  },
  {
   "cell_type": "code",
   "execution_count": 3,
   "metadata": {},
   "outputs": [],
   "source": [
    "# data: (x.lb, x.ub): lower and upper bounds of infectors symtpom onset dates\n",
    "# y: symptom onset dates of infectee\n",
    "\n",
    "#--- functions ---\n",
    "\n",
    "#--- CDF of serial interval ---\n",
    "p.Z  = function(z, gpar, lnpar) {\n",
    "  \n",
    "  #--- infectiousness, gamma distribution ---\n",
    "  # gpar[1:2]: hyper-parameters (gamma)\n",
    "  # x        : infection time of infectee w.r.t onset time of infector\n",
    "  f.Xc = function(x, gpar) { dgamma(x, gpar[1], gpar[2]) }\n",
    "  \n",
    "  #--- incubation, from Li et al NEJM 2020 ---\n",
    "  # lnpar[1:2]: hyper-parameter (logNormal)\n",
    "  # y         : length of incubation period of infectee\n",
    "  f.Y  = function(y, lnpar) { dlnorm(y, lnpar[1], lnpar[2]) }\n",
    "  \n",
    "  #--- convolution between incubation and infectiousness profile ---\n",
    "  # gpar[3]: shift c days before symptom onset of infector\n",
    "  # z      : length of serial interval\n",
    "  f.Z = function(z, gpar, lnpar) {\n",
    "    integrate(\n",
    "      f = function(x, z, gpar, lnpar) { f.Y(z+gpar[3]-x, lnpar)*f.Xc(x, gpar) },\n",
    "      lower = -Inf, \n",
    "      upper = Inf,\n",
    "      z     = z,\n",
    "      gpar  = gpar,\n",
    "      lnpar = lnpar\n",
    "    )$value\n",
    "  } \n",
    "  f.Z2 = Vectorize(f.Z, vectorize.args = \"z\")\n",
    "  \n",
    "  #--- p.Z ---\n",
    "  integrate(\n",
    "    f = function(x, gpar, lnpar) { f.Z2(x, gpar, lnpar) },\n",
    "    lower = -Inf,\n",
    "    upper = z,\n",
    "    gpar  = gpar,\n",
    "    lnpar = lnpar\n",
    "  )$value\n",
    "}\n",
    "p.Z2 = Vectorize(p.Z, vectorize.args = c(\"z\"))\n",
    "\n",
    "\n",
    "#--- logLikelihood for the observed serial intervals ---\n",
    "# x.lb: lower bound of infectors symtpom onset dates\n",
    "# x.ub: upper bound of infectors symtpom onset dates\n",
    "# y   : symptom onset dates of infectee\n",
    "# 0.5 : continuity correction\n",
    "lli.fx = function(gpar, x.lb, x.ub, y, lnpar) {\n",
    "  lli = log(p.Z2(y-(x.lb-0.5), gpar, lnpar) - p.Z2(y-(x.ub+0.5), gpar, lnpar))\n",
    "#   return(lli)\n",
    "  return(-sum(lli[!is.infinite(lli)]))\n",
    "}\n",
    "\n",
    "#--- incubation period ---\n",
    "# from Li et al NEJM 2020\n",
    "# lognormal mean = 5.2; 95% CI = c(4.1, 7.0)\n",
    "ln.par1 = 1.434065\n",
    "ln.par2 = 0.6612"
   ]
  },
  {
   "cell_type": "code",
   "execution_count": 4,
   "metadata": {},
   "outputs": [
    {
     "data": {
      "text/html": [
       "2.5470519530916e-07"
      ],
      "text/latex": [
       "2.5470519530916e-07"
      ],
      "text/markdown": [
       "2.5470519530916e-07"
      ],
      "text/plain": [
       "[1] 2.547052e-07"
      ]
     },
     "metadata": {},
     "output_type": "display_data"
    }
   ],
   "source": [
    "p.Z(-2, c(2.3, 0.5, 2.5), c(ln.par1, ln.par2))"
   ]
  },
  {
   "cell_type": "code",
   "execution_count": 5,
   "metadata": {
    "scrolled": true
   },
   "outputs": [
    {
     "data": {
      "text/html": [
       "193.185769075498"
      ],
      "text/latex": [
       "193.185769075498"
      ],
      "text/markdown": [
       "193.185769075498"
      ],
      "text/plain": [
       "[1] 193.1858"
      ]
     },
     "metadata": {},
     "output_type": "display_data"
    }
   ],
   "source": [
    "lli.fx(c(2.3, 0.5, 2.5),data[, \"x.lb\"], data[, \"x.ub\"], data[, \"y\"], c(ln.par1, ln.par2))"
   ]
  },
  {
   "cell_type": "code",
   "execution_count": 7,
   "metadata": {},
   "outputs": [],
   "source": [
    "#\n",
    "#--- estimation ---\n",
    "#\n",
    "\n",
    "inf.fit = optim(\n",
    "  c(2, 0.5, 1.7), lli.fx, \n",
    "  x.lb = data[, \"x.lb\"], \n",
    "  x.ub = data[, \"x.ub\"],\n",
    "  y    = data[, \"y\"],\n",
    "  lnpar = c(ln.par1, ln.par2)\n",
    ")\n",
    "\n",
    "# inf.fit$par would give the estimated parameters (1st and 2nd parameters) for the infectiousness,\n",
    "# and start of infectiousness before symptom onset (3rd parameter)"
   ]
  },
  {
   "cell_type": "code",
   "execution_count": 8,
   "metadata": {},
   "outputs": [
    {
     "data": {
      "text/html": [
       "<style>\n",
       ".list-inline {list-style: none; margin:0; padding: 0}\n",
       ".list-inline>li {display: inline-block}\n",
       ".list-inline>li:not(:last-child)::after {content: \"\\00b7\"; padding: 0 .5ex}\n",
       "</style>\n",
       "<ol class=list-inline><li>1.564937777179</li><li>0.54004821428606</li><li>2.07745179372196</li></ol>\n"
      ],
      "text/latex": [
       "\\begin{enumerate*}\n",
       "\\item 1.564937777179\n",
       "\\item 0.54004821428606\n",
       "\\item 2.07745179372196\n",
       "\\end{enumerate*}\n"
      ],
      "text/markdown": [
       "1. 1.564937777179\n",
       "2. 0.54004821428606\n",
       "3. 2.07745179372196\n",
       "\n",
       "\n"
      ],
      "text/plain": [
       "[1] 1.5649378 0.5400482 2.0774518"
      ]
     },
     "metadata": {},
     "output_type": "display_data"
    },
    {
     "data": {
      "text/html": [
       "2.07745179372196"
      ],
      "text/latex": [
       "2.07745179372196"
      ],
      "text/markdown": [
       "2.07745179372196"
      ],
      "text/plain": [
       "[1] 2.077452"
      ]
     },
     "metadata": {},
     "output_type": "display_data"
    },
    {
     "data": {
      "text/html": [
       "-1.03136412555729"
      ],
      "text/latex": [
       "-1.03136412555729"
      ],
      "text/markdown": [
       "-1.03136412555729"
      ],
      "text/plain": [
       "[1] -1.031364"
      ]
     },
     "metadata": {},
     "output_type": "display_data"
    },
    {
     "data": {
      "text/html": [
       "0.452652719788239"
      ],
      "text/latex": [
       "0.452652719788239"
      ],
      "text/markdown": [
       "0.452652719788239"
      ],
      "text/plain": [
       "[1] 0.4526527"
      ]
     },
     "metadata": {},
     "output_type": "display_data"
    }
   ],
   "source": [
    "#\n",
    "#--- results from fit ---\n",
    "#\n",
    "\n",
    "(inf.par = inf.fit$par)\n",
    "inf.par[3]                           # shift c\n",
    "(inf.par[1]-1)/inf.par[2] - inf.par[3]     # mode\n",
    "pgamma(inf.par[3], inf.par[1], inf.par[2]) # proportion of pre-symptomatic transmission"
   ]
  },
  {
   "cell_type": "code",
   "execution_count": null,
   "metadata": {},
   "outputs": [],
   "source": []
  }
 ],
 "metadata": {
  "kernelspec": {
   "display_name": "R",
   "language": "R",
   "name": "ir"
  },
  "language_info": {
   "codemirror_mode": "r",
   "file_extension": ".r",
   "mimetype": "text/x-r-source",
   "name": "R",
   "pygments_lexer": "r",
   "version": "4.0.0"
  }
 },
 "nbformat": 4,
 "nbformat_minor": 4
}
